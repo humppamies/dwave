{
 "cells": [
  {
   "cell_type": "code",
   "execution_count": null,
   "metadata": {},
   "outputs": [],
   "source": [
    "import dimod #sampler API for both QUBO and Ising models\n",
    "from dwave.cloud import Client #how to be the client for the backend\n",
    "from dwave.system.samplers import DWaveSampler #more sampler stuff\n",
    "from dwave.system.composites import EmbeddingComposite #yet more sampler stuff\n",
    "import numpy as np #we need a matrix\n",
    "\n",
    "sampler = DWaveSampler(solver={'qpu': True}) #connect to a real QPU\n",
    "print(\"Connected to sampler\", sampler.solver.id)"
   ]
  },
  {
   "cell_type": "code",
   "execution_count": null,
   "metadata": {},
   "outputs": [],
   "source": [
    "mat = np.matrix([[2,0,0,0,0,0,0,0,0,0,0,0,0,0],\n",
    "[-2,2,0,0,0,0,0,0,0,0,0,0,0,0],\n",
    "[1,1,-1,0,0,0,0,0,0,0,0,0,0,0],\n",
    "[1,5,0,0,0,0,0,0,0,0,0,0,0,0],\n",
    "[2,2,1,2,-1,0,0,0,0,0,0,0,0,0],\n",
    "[2,2,1,1,2,1,0,0,0,0,0,0,0,0],\n",
    "[2,2,1,0,2,2,2,0,0,0,0,0,0,0],\n",
    "[-8,3,-1,2,2,2,0,0,0,0,0,0,0,0],\n",
    "[0,-1,0,2,2,2,2,0,2,0,0,0,0,0],\n",
    "[1,1,-1,2,0,2,2,1,2,0,0,0,0,0],\n",
    "[-1,2,0,1,2,2,0,0,-1,2,0,0,0,0],\n",
    "[2,2,0,2,2,0,0,2,2,2,2,2,0,0],\n",
    "[0,0,1,2,2,2,2,0,0,2,0,2,2,0],\n",
    "[2,2,1,2,0,2,2,2,2,0,2,2,1,2]])"
   ]
  },
  {
   "cell_type": "code",
   "execution_count": null,
   "metadata": {},
   "outputs": [],
   "source": [
    "bqm = dimod.BinaryQuadraticModel.from_numpy_matrix(mat) #create a binary quadratic model from our matrix"
   ]
  },
  {
   "cell_type": "code",
   "execution_count": null,
   "metadata": {},
   "outputs": [],
   "source": [
    "sampler = EmbeddingComposite(DWaveSampler()) #create a new sampler\n",
    "response = sampler.sample(bqm, num_reads=10) #run our model with the sampler 10 times"
   ]
  },
  {
   "cell_type": "code",
   "execution_count": null,
   "metadata": {},
   "outputs": [],
   "source": [
    "print(response) #print out the results"
   ]
  }
 ],
 "metadata": {
  "kernelspec": {
   "display_name": "Python 3",
   "language": "python",
   "name": "python3"
  },
  "language_info": {
   "codemirror_mode": {
    "name": "ipython",
    "version": 3
   },
   "file_extension": ".py",
   "mimetype": "text/x-python",
   "name": "python",
   "nbconvert_exporter": "python",
   "pygments_lexer": "ipython3",
   "version": "3.7.3"
  }
 },
 "nbformat": 4,
 "nbformat_minor": 2
}
