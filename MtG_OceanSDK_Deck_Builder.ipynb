{
  "cells": [
    {
      "cell_type": "code",
      "execution_count": 1,
      "metadata": {
        "trusted": true
      },
      "outputs": [],
      "source": "%matplotlib inline\n# Importing standard Qiskit libraries and configuring account\nfrom qiskit import QuantumCircuit, execute, Aer, IBMQ\nfrom qiskit.compiler import transpile, assemble\nfrom qiskit.tools.jupyter import *\nfrom qiskit.visualization import *\n# Loading your IBM Q account(s)\nprovider = IBMQ.load_account()"
    },
    {
      "cell_type": "code",
      "execution_count": 3,
      "metadata": {
        "trusted": true
      },
      "outputs": [
        {
          "ename": "ModuleNotFoundError",
          "evalue": "No module named 'dwave'",
          "output_type": "error",
          "traceback": [
            "\u001b[0;31m---------------------------------------------------------------------------\u001b[0m",
            "\u001b[0;31mModuleNotFoundError\u001b[0m                       Traceback (most recent call last)",
            "\u001b[0;32m<ipython-input-3-53ec579a6637>\u001b[0m in \u001b[0;36m<module>\u001b[0;34m\u001b[0m\n\u001b[0;32m----> 1\u001b[0;31m \u001b[0;32mfrom\u001b[0m \u001b[0mdwave\u001b[0m\u001b[0;34m.\u001b[0m\u001b[0mcloud\u001b[0m \u001b[0;32mimport\u001b[0m \u001b[0mClient\u001b[0m\u001b[0;34m\u001b[0m\u001b[0;34m\u001b[0m\u001b[0m\n\u001b[0m",
            "\u001b[0;31mModuleNotFoundError\u001b[0m: No module named 'dwave'"
          ]
        }
      ],
      "source": "import dimod\nfrom dwave.cloud import Client\nfrom dwave.system.samplers import DWaveSampler\nfrom dwave.system.composites import EmbeddingComposite\nimport numpy as np\n\nsampler = DWaveSampler(solver={'qpu': True})\nprint(\"Connected to sampler\", sampler.solver.id)"
    },
    {
      "cell_type": "code",
      "execution_count": null,
      "metadata": {
        "trusted": true
      },
      "outputs": [],
      "source": "mat = np.matrix([[0,0,0,0,0,0,0,0,0,0,0,0,0,0],\n[0,2,0,0,0,0,0,0,0,0,0,0,0,0],\n[0,4,-2,0,0,0,0,0,0,0,0,0,0,0],\n[2,2,1,0,0,0,0,0,0,0,0,0,0,0],\n[2,2,1,1,-1,0,0,0,0,0,0,0,0,0],\n[2,2,1,0,2,1,0,0,0,0,0,0,0,0],\n[-6,5,-1,2,2,2,0,0,0,0,0,0,0,0],\n[0,-1,0,2,2,2,2,0,0,0,0,0,0,0],\n[-1,-1,-1,2,2,2,2,-1,2,0,0,0,0,0],\n[1,4,0,1,0,2,0,2,1,0,0,0,0,0],\n[0,0,0,2,2,2,0,0,0,2,0,0,0,0],\n[2,2,1,2,2,0,2,2,2,2,2,2,0,0],\n[0,0,1,2,2,2,2,0,0,2,0,2,1,0],\n[2,2,1,2,0,2,2,2,2,0,2,2,2,2]])"
    },
    {
      "cell_type": "code",
      "execution_count": null,
      "metadata": {
        "trusted": true
      },
      "outputs": [],
      "source": "bqm = dimod.BinaryQuadraticModel.from_numpy_matrix(mat)"
    },
    {
      "cell_type": "code",
      "execution_count": null,
      "metadata": {
        "trusted": true
      },
      "outputs": [],
      "source": "sampler = EmbeddingComposite(DWaveSampler())\nresponse = sampler.sample(bqm, num_reads=10)"
    },
    {
      "cell_type": "code",
      "execution_count": null,
      "metadata": {
        "trusted": true
      },
      "outputs": [],
      "source": "print(response)"
    }
  ],
  "metadata": {
    "kernelspec": {
      "display_name": "Python 3",
      "language": "python",
      "name": "python3"
    },
    "language_info": {
      "codemirror_mode": {
        "name": "ipython",
        "version": 3
      },
      "file_extension": ".py",
      "mimetype": "text/x-python",
      "name": "python",
      "nbconvert_exporter": "python",
      "pygments_lexer": "ipython3",
      "version": "3.7.3"
    }
  },
  "nbformat": 4,
  "nbformat_minor": 2
}