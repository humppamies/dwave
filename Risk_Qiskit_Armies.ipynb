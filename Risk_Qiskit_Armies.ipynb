{
 "cells": [
  {
   "cell_type": "markdown",
   "metadata": {},
   "source": [
    "This notebook is an implementation that starts with an Ising model that we got from other hardware (D-Wave Ocean SDK on their quantum annealer) and implements it as a QAOA on the IBM hardware with Qiskit."
   ]
  },
  {
   "cell_type": "code",
   "execution_count": null,
   "metadata": {},
   "outputs": [],
   "source": [
    "from qiskit.aqua.operators import WeightedPauliOperator\n",
    "from qiskit.aqua.algorithms import ExactEigensolver\n",
    "from qiskit.optimization.ising.common import sample_most_likely \n",
    "from qiskit.optimization.ising.max_cut import get_graph_solution \n",
    "\n",
    "from qiskit.quantum_info import Pauli\n",
    "import numpy as np\n",
    "\n",
    "# Make printing out some of the larger matrices a bit less painful\n",
    "import pprint\n",
    "pp = pprint.PrettyPrinter(indent=4)\n",
    "\n",
    "# This we got from the Ocean SDK and copypasted here. Unfortunately the data types are not directly compatible.\n",
    "ising = ({0: 4.0, 1: 5.0, 2: 3.5, 3: 5.75, 4: 2.75},\n",
    " {(0, 1): 5.25,\n",
    "  (0, 2): 4.5,\n",
    "  (0, 3): 5.25,\n",
    "  (0, 4): 4.5,\n",
    "  (1, 2): 4.5,\n",
    "  (1, 3): 5.25,\n",
    "  (1, 4): 4.5,\n",
    "  (2, 3): 5.25,\n",
    "  (2, 4): 5.25,\n",
    "  (3, 4): 4.5},\n",
    " -27.75)\n",
    "\n",
    "# We calculate the size of a matrix we will need to represent the Ising model above.\n",
    "size = 0 \n",
    "for x in ising[0]:\n",
    "    size = x if x > size else size\n",
    "size += 1    \n",
    "print(size)"
   ]
  },
  {
   "cell_type": "code",
   "execution_count": null,
   "metadata": {},
   "outputs": [],
   "source": [
    "# Now we dive into turning this simple ising object into a matrix that Qiskit tools including the QAOA can understand.\n",
    "# Basically we need to indicate with the Z paulis which of the qubits this weight is applied to.\n",
    "paulis = []\n",
    "print(\"Empty:\")\n",
    "pp.pprint(paulis)\n",
    "for x in ising[0]:\n",
    "    xp = np.zeros(size, dtype=np.bool)\n",
    "    zp = np.zeros(size, dtype=np.bool)\n",
    "\n",
    "    zp[x] = True\n",
    "    paulis.append([ising[0][x], Pauli(zp, xp)])\n",
    "    \n",
    "print(\"With diagonal elements:\")\n",
    "pp.pprint(paulis)\n",
    "\n",
    "for x in ising[1]:\n",
    "    xp = np.zeros(size, dtype=np.bool)\n",
    "    zp = np.zeros(size, dtype=np.bool)\n",
    "\n",
    "    zp[x[0]] = True\n",
    "    zp[x[1]] = True\n",
    "    paulis.append([ising[1][x], Pauli(zp, xp)])\n",
    "print(\"With everything:\")\n",
    "pp.pprint(paulis)"
   ]
  },
  {
   "cell_type": "code",
   "execution_count": null,
   "metadata": {},
   "outputs": [],
   "source": [
    "# We make an operator out of the matrix. In a way we just need to tell which qubits does the matrix sell apply to.\n",
    "qubit_op = WeightedPauliOperator(paulis)\n",
    "\n",
    "print(\"num qubits: {}\".format(qubit_op.num_qubits))\n",
    "\n",
    "pp.pprint(qubit_op.to_dict())"
   ]
  },
  {
   "cell_type": "code",
   "execution_count": null,
   "metadata": {},
   "outputs": [],
   "source": [
    "# ========== CLASSICAL\n",
    "# We use the ExactEigensolver to just solve the matrix without caring that they are binary numbers.\n",
    "\n",
    "result = ExactEigensolver(qubit_op).run()\n",
    "pp.pprint(result)\n",
    "x = sample_most_likely(result['eigvecs'][0])\n",
    "print(x)\n",
    "print('energy:', result['energy'])\n",
    "print('solution:', get_graph_solution(x))"
   ]
  },
  {
   "cell_type": "code",
   "execution_count": null,
   "metadata": {},
   "outputs": [],
   "source": [
    "# ========== QUANTUM \n",
    "from qiskit.visualization import *\n",
    "from qiskit.aqua import aqua_globals\n",
    "aqua_globals.random_seed = 777 # This is random e.g. whatever you like"
   ]
  },
  {
   "cell_type": "code",
   "execution_count": null,
   "metadata": {},
   "outputs": [],
   "source": [
    "# VQE parts\n",
    "# VQE is the same as ExactEigensolver but a quantum version of the algorithm\n",
    "from qiskit import BasicAer, Aer\n",
    "from qiskit.aqua.algorithms import VQE\n",
    "from qiskit.aqua.components.variational_forms import RY\n",
    "from qiskit.aqua.components.optimizers import SPSA\n",
    "\n",
    "var_form = RY(qubit_op.num_qubits, depth=7, entanglement='full')\n",
    "optimizer = SPSA(max_trials=200)\n",
    "vqe = VQE(qubit_op, var_form, optimizer)\n",
    "backend = Aer.get_backend('qasm_simulator')\n",
    "result = vqe.run(backend)\n",
    "\n",
    "x = sample_most_likely(result['eigvecs'][0])\n",
    "print(x)\n",
    "print('energy:', result['energy'])\n",
    "print('time:', result['eval_time'])\n",
    "print('solution:', get_graph_solution(x))"
   ]
  },
  {
   "cell_type": "code",
   "execution_count": null,
   "metadata": {},
   "outputs": [],
   "source": [
    "plot_histogram(result['min_vector'])"
   ]
  },
  {
   "cell_type": "code",
   "execution_count": null,
   "metadata": {},
   "outputs": [],
   "source": [
    "#QAOA parts\n",
    "from qiskit import BasicAer, Aer\n",
    "from qiskit.aqua import QuantumInstance\n",
    "from qiskit.aqua.algorithms import QAOA\n",
    "from qiskit.aqua.components.optimizers import SPSA, COBYLA, SLSQP\n",
    "\n",
    "# We can choose from several classical optimizers\n",
    "#optimizer = SPSA(max_trials=250)\n",
    "optimizer = COBYLA(maxiter=2000) #1000\n",
    "#optimizer = SLSQP(maxiter=1000)\n",
    "qaoa = QAOA(qubit_op, optimizer, p=10)\n",
    "backend = Aer.get_backend('qasm_simulator') \n",
    "qi = QuantumInstance(backend, shots=200)\n",
    "result = qaoa.run(qi)\n",
    "    \n",
    "x = sample_most_likely(result['eigvecs'][0])\n",
    "print(x)\n",
    "print('energy:', result['energy'])\n",
    "print('time:', result['eval_time'])\n",
    "print('solution:', get_graph_solution(x))"
   ]
  },
  {
   "cell_type": "code",
   "execution_count": null,
   "metadata": {},
   "outputs": [],
   "source": [
    "plot_histogram(result['min_vector'])"
   ]
  }
 ],
 "metadata": {
  "kernelspec": {
   "display_name": "Python 3",
   "language": "python",
   "name": "python3"
  },
  "language_info": {
   "codemirror_mode": {
    "name": "ipython",
    "version": 3
   },
   "file_extension": ".py",
   "mimetype": "text/x-python",
   "name": "python",
   "nbconvert_exporter": "python",
   "pygments_lexer": "ipython3",
   "version": "3.7.6"
  }
 },
 "nbformat": 4,
 "nbformat_minor": 2
}
