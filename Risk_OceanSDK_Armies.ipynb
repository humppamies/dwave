{
 "cells": [
  {
   "cell_type": "markdown",
   "metadata": {},
   "source": [
    "This code is intented to be run on the D-Wave Ocean SDK. It uses a QUBO to select placement of additional armies in the game of Risk."
   ]
  },
  {
   "cell_type": "code",
   "execution_count": null,
   "metadata": {},
   "outputs": [],
   "source": [
    "import dimod #sampler API for both QUBO and Ising models\n",
    "from dwave.cloud import Client #how to be the client for the backend\n",
    "from dwave.system.samplers import DWaveSampler #more sampler stuff\n",
    "from dwave.system.composites import EmbeddingComposite #yet more sampler stuff\n",
    "import numpy as np #we need a matrix\n",
    "\n",
    "sampler = DWaveSampler(solver={'qpu': True}) #connect to a real QPU\n",
    "print(\"Connected to sampler\", sampler.solver.id)"
   ]
  },
  {
   "cell_type": "code",
   "execution_count": null,
   "metadata": {},
   "outputs": [],
   "source": [
    "mat = np.matrix([[-31,10,10,10,10], #Risk armies\n",
    "[11,-29,10,10,10],\n",
    "[8,8,-32,10,10],\n",
    "[11,11,11,-29,10],\n",
    "[8,8,11,8,-32]])"
   ]
  },
  {
   "cell_type": "code",
   "execution_count": null,
   "metadata": {},
   "outputs": [],
   "source": [
    "bqm = dimod.BinaryQuadraticModel.from_numpy_matrix(mat) #create a binary quadratic model from our matrix"
   ]
  },
  {
   "cell_type": "code",
   "execution_count": null,
   "metadata": {},
   "outputs": [],
   "source": [
    "sampler = EmbeddingComposite(DWaveSampler()) #create a new sampler\n",
    "response = sampler.sample(bqm, num_reads=10) #run our model with the sampler 10 times"
   ]
  },
  {
   "cell_type": "code",
   "execution_count": null,
   "metadata": {},
   "outputs": [],
   "source": [
    "print(response) #print out the results"
   ]
  },
  {
   "cell_type": "code",
   "execution_count": null,
   "metadata": {},
   "outputs": [],
   "source": [
    "ising = bqm.change_vartype('SPIN', False).to_ising() #Let's print the results out as an Ising model\n",
    "ising"
   ]
  }
 ],
 "metadata": {
  "kernelspec": {
   "display_name": "Python 3",
   "language": "python",
   "name": "python3"
  },
  "language_info": {
   "codemirror_mode": {
    "name": "ipython",
    "version": 3
   },
   "file_extension": ".py",
   "mimetype": "text/x-python",
   "name": "python",
   "nbconvert_exporter": "python",
   "pygments_lexer": "ipython3",
   "version": "3.7.6"
  }
 },
 "nbformat": 4,
 "nbformat_minor": 2
}
